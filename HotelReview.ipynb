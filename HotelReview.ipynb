{
 "cells": [
  {
   "cell_type": "markdown",
   "id": "6a6958d5",
   "metadata": {},
   "source": [
    "## Hotel Review\n",
    "\n",
    "We aim to perform sentiment analysis on customer reviews to understand their \n",
    "sentiments towards a product or service. This helps us to understand customer \n",
    "satisfaction and areas that need improvement.\n",
    " \n",
    "NLP Techniques: \n",
    "1. Text Preprocessing: Tokenization, stop word removal and lemmatization. \n",
    "2. Feature Extraction: Bag of Words, Term Frequency – Inverse Document \n",
    "Frequency (TF-IDF) and word embeddings. \n",
    "3. Sentiment Classification: Random Forest (RF) Classifier, Logistic Regression, \n",
    "CNN "
   ]
  },
  {
   "cell_type": "markdown",
   "id": "48f193a2",
   "metadata": {},
   "source": [
    "### Data Preparation\n",
    "\n",
    "Each customer review is a textual feedback and an overall rating.  \n",
    "The ratings can range from 1 to 10.  \n",
    "We will split them into two categories: bad reviews have ratings < 5 and good reviews have ratings >= 5.\n",
    "\n",
    "The textual is divide into two part (positive and negative). We group the together in order to start with only one raw text data.\n",
    "additionally if the user doesn't leave any negative or positive comment, this will appear as \"No Negative\" or \"No Positive\". those part have to be removed from the text."
   ]
  },
  {
   "cell_type": "code",
   "id": "c92af576",
   "metadata": {
    "ExecuteTime": {
     "end_time": "2024-06-22T09:03:23.271680Z",
     "start_time": "2024-06-22T09:03:21.877064Z"
    }
   },
   "source": [
    "import pandas as pd\n",
    "\n",
    "#read data\n",
    "reviews = pd.read_pickle('dataset/Hotel_Reviews.pkl')\n",
    "\n",
    "#append the positive and negative reviews\n",
    "reviews['review'] = reviews['Negative_Review'] + reviews['Positive_Review']\n",
    "#create the label\n",
    "reviews['review_type'] = reviews['Reviewer_Score'].apply(lambda x: 'Bad_review' if x < 5 else 'Good_review')\n",
    "#sample data in order to speed up the computation\n",
    "reviews = reviews.sample(frac=0.1, replace=False, random_state=42)\n",
    "#clean data\n",
    "reviews['review'] = reviews['review'].apply(lambda x: x.replace('No Negative', '').replace('No Positive', '')) \n"
   ],
   "outputs": [],
   "execution_count": 1
  },
  {
   "cell_type": "markdown",
   "id": "bc0005d2",
   "metadata": {},
   "source": [
    "### Data cleaning\n",
    "\n",
    "We will perform several transformations to clean the textual data:\n",
    "- tokenize the text and remove the punctuation\n",
    "- remove useless stop words\n",
    "- lemmatize the text"
   ]
  },
  {
   "cell_type": "code",
   "id": "838f05a0",
   "metadata": {
    "ExecuteTime": {
     "end_time": "2024-06-22T09:04:50.568016Z",
     "start_time": "2024-06-22T09:03:28.546691Z"
    }
   },
   "source": [
    "#lemmatize token and remove stop word, if len of word is greater than 1 remove it \n",
    "from typing import List\n",
    "import spacy\n",
    "\n",
    "nlp = spacy.load('en_core_web_sm', disable=['parser', 'ner'])\n",
    "\n",
    "def clean_text(text: str) -> List[str]:\n",
    "    doc = nlp(text)\n",
    "    return [token.lemma_ for token in doc if not token.is_stop and len(token) > 1]\n",
    "\n",
    "reviews['review_clean'] = reviews['review'].apply(lambda x: clean_text(x))"
   ],
   "outputs": [],
   "execution_count": 2
  },
  {
   "cell_type": "markdown",
   "id": "8fd3ddd0",
   "metadata": {},
   "source": [
    "### tfidf Encoding\n",
    "\n",
    "We want to create document embeddings using bag-of-words approach "
   ]
  },
  {
   "cell_type": "code",
   "id": "a25d5e93",
   "metadata": {
    "ExecuteTime": {
     "end_time": "2024-06-22T09:07:34.293617Z",
     "start_time": "2024-06-22T09:07:34.088604Z"
    }
   },
   "source": [
    "from typing import List\n",
    "from scipy.sparse import lil_matrix\n",
    "import numpy as np\n",
    "\n",
    "class TfIdfModel:\n",
    "\n",
    "    def __init__(self):\n",
    "        self.index = dict()\n",
    "        self.precomputed_embeddings = dict()\n",
    "        \n",
    "    #Create an index for the vocabulary from the docs\n",
    "\n",
    "    def build_index(self, docs: List[List[str]]) -> None:\n",
    "        words = [word for doc in docs for word in doc]\n",
    "        self.index = {word:i for i, word in enumerate(sorted(set(words)))}\n",
    "\n",
    "\n",
    "    def train(self, docs: List[List[str]]) -> None:\n",
    "        self.build_index(docs)\n",
    "        num_docs = len(docs)\n",
    "        num_terms = len(self.index)\n",
    "    \n",
    "        # Use a sparse matrix\n",
    "        term_doc_matrix = lil_matrix((num_docs, num_terms), dtype=np.float64)\n",
    "    \n",
    "        # Compute the term frequency matrix\n",
    "        for i, doc in enumerate(docs):\n",
    "            for term in doc:\n",
    "                term_doc_matrix[i, self.index[term]] += 1\n",
    "    \n",
    "        # Convert to CSR format for efficient arithmetic operations\n",
    "        term_doc_matrix = term_doc_matrix.tocsr()\n",
    "    \n",
    "        td_log_matrix = term_doc_matrix.copy()\n",
    "        td_log_matrix.data = np.log10(td_log_matrix.data + 1)\n",
    "    \n",
    "        df_vector = np.diff(term_doc_matrix.tocsc().indptr)\n",
    "        df_vector[df_vector == 0] = 1\n",
    "        idf_vector = np.log10(num_docs / df_vector)\n",
    "    \n",
    "        self.tfidf_matrix = td_log_matrix.multiply(idf_vector)\n",
    "\n",
    "        for term, idx in self.index.items():\n",
    "            self.precomputed_embeddings[term] = self.tfidf_matrix.getcol(idx).toarray().flatten()\n",
    "\n",
    "    def embed(self, word: str) -> np.ndarray:\n",
    "        return self.precomputed_embeddings.get(word, None)\n",
    "\n",
    "    def vector_size(self) -> int:\n",
    "        return self.tfidf_matrix.shape[0]\n",
    "    "
   ],
   "outputs": [],
   "execution_count": 3
  },
  {
   "metadata": {},
   "cell_type": "markdown",
   "source": [
    "### Bag of Words\n",
    "Create a document embedding using the bag of words approach"
   ],
   "id": "dc4c63bb3d066312"
  },
  {
   "metadata": {},
   "cell_type": "code",
   "outputs": [],
   "execution_count": 4,
   "source": [
    "def bagOfWords(model: TfIdfModel, doc: List[str]) -> np.ndarray:\n",
    "    embeds = [model.embed(token) for token in doc if token in model.precomputed_embeddings]\n",
    "    \n",
    "    if embeds:\n",
    "        embeds = np.array(embeds)\n",
    "        return embeds.mean(axis=0)\n",
    "    \n",
    "    return np.zeros(model.vector_size())\n"
   ],
   "id": "13b1a288"
  },
  {
   "cell_type": "code",
   "id": "aae37be3",
   "metadata": {
    "ExecuteTime": {
     "end_time": "2024-06-22T09:09:14.319955Z",
     "start_time": "2024-06-22T09:07:38.435784Z"
    }
   },
   "source": [
    "model = TfIdfModel()  \n",
    "model.train(reviews['review_clean'].tolist())\n",
    "\n",
    "embed_train = np.array([bagOfWords(model, review) for review in reviews['review_clean']])\n",
    "labels_train = np.array([round(score) for score in reviews['Reviewer_Score']])\n",
    "\n",
    "print(embed_train.shape)\n",
    "print(labels_train.shape)\n"
   ],
   "outputs": [
    {
     "name": "stdout",
     "output_type": "stream",
     "text": [
      "(20000, 20000)\n",
      "(20000,)\n"
     ]
    }
   ],
   "execution_count": 5
  },
  {
   "metadata": {},
   "cell_type": "markdown",
   "source": "### plot the confusion matrix and calculate f1_score",
   "id": "7d5296331ecce57b"
  },
  {
   "cell_type": "code",
   "id": "d0add960",
   "metadata": {
    "ExecuteTime": {
     "end_time": "2024-06-22T09:56:33.009266Z",
     "start_time": "2024-06-22T09:55:49.368506Z"
    }
   },
   "source": [
    "%%time\n",
    "import numpy as np\n",
    "from sklearn.decomposition import PCA\n",
    "from sklearn.svm import SVC\n",
    "from sklearn.metrics import confusion_matrix, f1_score\n",
    "import matplotlib.pyplot as plt\n",
    "from sklearn.preprocessing import LabelEncoder\n",
    "import seaborn as sns\n",
    "\n",
    "# sample data\n",
    "np.random.seed(0)\n",
    "embed_train = np.random.rand(20000, 20000)\n",
    "labels_train = np.random.randint(0, 1000, 20000)\n",
    "\n",
    "# Dimensionality reduction using PCA\n",
    "pca = PCA(n_components=200)\n",
    "embed_train_reduced = pca.fit_transform(embed_train)\n",
    "\n",
    "unique_classes = np.unique(labels_train)[:10]\n",
    "mask = np.isin(labels_train, unique_classes)\n",
    "\n",
    "embed_train_subset = embed_train_reduced[mask]\n",
    "labels_train_subset = labels_train[mask]\n",
    "\n",
    "label_encoder = LabelEncoder()\n",
    "labels_train_subset_encoded = label_encoder.fit_transform(labels_train_subset)\n",
    "\n",
    "classifier = SVC(kernel='poly')\n",
    "classifier.fit(embed_train_subset, labels_train_subset_encoded)\n",
    "\n",
    "train_predict_subset = classifier.predict(embed_train_subset)\n",
    "cm = confusion_matrix(labels_train_subset_encoded, train_predict_subset, normalize='true')\n",
    "\n",
    "# Use a heatmap with a logarithmic scale to better visualize the data\n",
    "plt.figure(figsize=(10, 8))\n",
    "sns.heatmap(np.log1p(cm), annot=True, fmt=\".2f\", cmap='Blues', xticklabels=label_encoder.classes_, yticklabels=label_encoder.classes_)\n",
    "plt.title('Confusion Matrix - Training Set (Subset)')\n",
    "plt.xlabel('Predicted')\n",
    "plt.ylabel('True')\n",
    "plt.show()\n",
    "\n",
    "\n",
    "f1_score_train_subset = f1_score(labels_train_subset_encoded, train_predict_subset, average='micro')\n",
    "print(\"F1 Score - Training Set (Subset):\", f1_score_train_subset)\n"
   ],
   "outputs": [
    {
     "data": {
      "text/plain": [
       "<Figure size 720x576 with 2 Axes>"
      ],
      "image/png": "[encoded data removed]"
     },
     "metadata": {
      "needs_background": "light"
     },
     "output_type": "display_data"
    },
    {
     "name": "stdout",
     "output_type": "stream",
     "text": [
      "F1 Score - Training Set (Subset): 0.9948979591836735\n",
      "Wall time: 43.6 s\n"
     ]
    }
   ],
   "execution_count": 15
  },
  {
   "cell_type": "code",
   "id": "63d3572d",
   "metadata": {
    "ExecuteTime": {
     "end_time": "2024-06-22T09:20:40.061741Z",
     "start_time": "2024-06-22T09:20:40.044710Z"
    }
   },
   "source": "",
   "outputs": [],
   "execution_count": 9
  }
 ],
 "metadata": {
  "kernelspec": {
   "display_name": "Python 3",
   "language": "python",
   "name": "python3"
  },
  "language_info": {
   "codemirror_mode": {
    "name": "ipython",
    "version": 3
   },
   "file_extension": ".py",
   "mimetype": "text/x-python",
   "name": "python",
   "nbconvert_exporter": "python",
   "pygments_lexer": "ipython3",
   "version": "3.7.6"
  }
 },
 "nbformat": 4,
 "nbformat_minor": 5
}
